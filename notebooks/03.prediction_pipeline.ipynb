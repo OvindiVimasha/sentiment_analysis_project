{
 "cells": [
  {
   "cell_type": "code",
   "execution_count": 35,
   "id": "78ad9956-5965-49cf-bffb-b4a9502a0b7e",
   "metadata": {},
   "outputs": [],
   "source": [
    "import numpy as np\n",
    "import pandas as pd\n",
    "import re\n",
    "import string\n",
    "import pickle"
   ]
  },
  {
   "cell_type": "code",
   "execution_count": 37,
   "id": "46b1e08e-1676-419a-b33b-fbe2486bb444",
   "metadata": {},
   "outputs": [],
   "source": [
    "with open('../static/model/model.pickle','rb') as f:\n",
    "    model=pickle.load(f)"
   ]
  },
  {
   "cell_type": "code",
   "execution_count": 38,
   "id": "6359e835-e354-4e35-8980-4caec535a51a",
   "metadata": {},
   "outputs": [],
   "source": [
    "vocab=pd.read_csv('../static/model/vocabulary.txt',header=None)\n",
    "tokens=vocab[0].tolist()"
   ]
  },
  {
   "cell_type": "code",
   "execution_count": 39,
   "id": "d6d7baef-ce52-4074-b4d3-f948dba29240",
   "metadata": {},
   "outputs": [],
   "source": [
    "#Remove puctuations\n",
    "def remove_punctuations(text):\n",
    "    for punctuation in string.punctuation:\n",
    "        text = text.replace(punctuation, '')\n",
    "    return text"
   ]
  },
  {
   "cell_type": "code",
   "execution_count": 40,
   "id": "fb3aa612-9300-4058-a66d-ceef23402e13",
   "metadata": {},
   "outputs": [],
   "source": [
    "#Accessing stopwords list to remove stopwords\n",
    "with open('../static/model/corpora/stopwords/english','r') as file:\n",
    "    sw=file.read().splitlines()"
   ]
  },
  {
   "cell_type": "code",
   "execution_count": 41,
   "id": "76c24696-5fe0-455f-a250-ceea0ac77579",
   "metadata": {},
   "outputs": [],
   "source": [
    "#For stemming\n",
    "from nltk.stem import PorterStemmer\n",
    "ps=PorterStemmer()"
   ]
  },
  {
   "cell_type": "code",
   "execution_count": 42,
   "id": "37d069e2-2100-4911-9235-01b934364c0d",
   "metadata": {},
   "outputs": [],
   "source": [
    "def preprocessing(text):\n",
    "    data = pd.DataFrame([text], columns=['tweet'])\n",
    "    #convert to lowercase\n",
    "    data[\"tweet\"]=data[\"tweet\"].apply(lambda x: \" \".join(x.lower() for x in x.split()))\n",
    "    #Remove links\n",
    "    data[\"tweet\"]=data[\"tweet\"].apply(lambda x: \" \".join(re.sub(r'^https?:\\/\\/.*[\\r\\n]*','',x,flags=re.MULTILINE) for x in x.split()))\n",
    "    #Remove numbers\n",
    "    data[\"tweet\"]=data[\"tweet\"].str.replace('\\\\d+', '', regex=True)\n",
    "    #Remove punctuations\n",
    "    data[\"tweet\"] = data[\"tweet\"].apply(remove_punctuations)\n",
    "    #Remove stopwords\n",
    "    data[\"tweet\"]=data[\"tweet\"].apply(lambda x: \" \".join(x for x in x.split() if x not in sw))\n",
    "    #Stemming\n",
    "    data[\"tweet\"]=data[\"tweet\"].apply(lambda x: \" \".join(ps.stem(x) for x in x.split()))\n",
    "    return data['tweet']"
   ]
  },
  {
   "cell_type": "code",
   "execution_count": 47,
   "id": "b5bec3f9-a80d-41a1-bc92-924ee29c8bc5",
   "metadata": {},
   "outputs": [],
   "source": [
    "def vectorizer(ds, vocabulary):\n",
    "    vectorized_lst = []  # List to store the vectorized sentences\n",
    "\n",
    "    # Iterate through each sentence in the dataset\n",
    "    for sentence in ds:\n",
    "        sentence_lst = np.zeros(len(vocabulary))  # Initialize a zero vector of vocabulary size\n",
    "\n",
    "        # Iterate through the vocabulary\n",
    "        for i in range(len(vocabulary)):\n",
    "            # If the vocabulary word is in the sentence, set the corresponding index to 1\n",
    "            if vocabulary[i] in sentence.split():\n",
    "                sentence_lst[i] = 1\n",
    "\n",
    "        vectorized_lst.append(sentence_lst)  # Append the vectorized sentence to the list\n",
    "\n",
    "    # Convert the list of vectors to a NumPy array of float32 type\n",
    "    vectorized_lst_new = np.asarray(vectorized_lst, dtype=np.float32)\n",
    "    return vectorized_lst_new"
   ]
  },
  {
   "cell_type": "code",
   "execution_count": 58,
   "id": "984ccbf4-3ca5-4877-b8d1-034408c87f7c",
   "metadata": {},
   "outputs": [],
   "source": [
    "def get_prediction(vectorized_txt):\n",
    "    prediction=model.predict(vectorized_txt)\n",
    "    if prediction ==1:\n",
    "        return 'Negative'\n",
    "    else:\n",
    "        return 'Positive'"
   ]
  },
  {
   "cell_type": "code",
   "execution_count": 64,
   "id": "1b6c3ce2-5b12-4f0c-b04d-840b1ad51d9a",
   "metadata": {},
   "outputs": [
    {
     "data": {
      "text/plain": [
       "'Negative'"
      ]
     },
     "execution_count": 64,
     "metadata": {},
     "output_type": "execute_result"
    }
   ],
   "source": [
    "txt=\"Bad product! I hate it\"\n",
    "preprocessed_txt=preprocessing(txt)\n",
    "vectorized_txt=vectorizer(preprocessed_txt,tokens)\n",
    "prediction=get_prediction(vectorized_txt)\n",
    "prediction"
   ]
  },
  {
   "cell_type": "code",
   "execution_count": 60,
   "id": "e22bee34-915f-493b-985b-f6e37d7c091f",
   "metadata": {},
   "outputs": [
    {
     "data": {
      "text/plain": [
       "'Positive'"
      ]
     },
     "execution_count": 60,
     "metadata": {},
     "output_type": "execute_result"
    }
   ],
   "source": [
    "txt=\"Awesome product. I love it\"\n",
    "preprocessed_txt=preprocessing(txt)\n",
    "vectorized_txt=vectorizer(preprocessed_txt,tokens)\n",
    "prediction=get_prediction(vectorized_txt)\n",
    "prediction"
   ]
  }
 ],
 "metadata": {
  "kernelspec": {
   "display_name": "Python 3 (ipykernel)",
   "language": "python",
   "name": "python3"
  },
  "language_info": {
   "codemirror_mode": {
    "name": "ipython",
    "version": 3
   },
   "file_extension": ".py",
   "mimetype": "text/x-python",
   "name": "python",
   "nbconvert_exporter": "python",
   "pygments_lexer": "ipython3",
   "version": "3.13.1"
  }
 },
 "nbformat": 4,
 "nbformat_minor": 5
}
